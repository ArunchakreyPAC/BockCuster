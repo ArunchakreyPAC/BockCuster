{
 "cells": [
  {
   "metadata": {},
   "cell_type": "markdown",
   "source": "## **Cleaning Weather datasets**",
   "id": "c86efbe7e7b961a9"
  },
  {
   "metadata": {
    "ExecuteTime": {
     "end_time": "2024-09-23T12:11:45.349043Z",
     "start_time": "2024-09-23T12:11:43.725588Z"
    }
   },
   "cell_type": "code",
   "source": "import pandas as pd",
   "id": "f312b5fa98267b6a",
   "outputs": [],
   "execution_count": 2
  },
  {
   "metadata": {
    "ExecuteTime": {
     "end_time": "2024-09-21T13:31:50.583047Z",
     "start_time": "2024-09-21T13:31:50.403130Z"
    }
   },
   "cell_type": "code",
   "source": [
    "\n",
    "weather_data_csv = 'datasets/weatherAUS.csv'\n",
    "\n",
    "weather_data = pd.read_csv(weather_data_csv)\n",
    "\n",
    "print(weather_data.columns.tolist())\n",
    "\n",
    "weather_data.drop(columns=['Evaporation',\n",
    "                           'WindGustDir',\n",
    "                           'WindGustSpeed',\n",
    "                           'WindDir9am',\n",
    "                           'WindDir3pm',\n",
    "                           'WindSpeed9am',\n",
    "                           'WindSpeed3pm',\n",
    "                           'Humidity9am',\n",
    "                           'Humidity3pm',\n",
    "                           'Pressure9am',\n",
    "                           'Pressure3pm',\n",
    "                           'Cloud9am',\n",
    "                           'Cloud3pm',\n",
    "                           'Temp9am',\n",
    "                           'Temp3pm',\n",
    "                           'RainToday',\n",
    "                           'RainTomorrow'], inplace=True)\n",
    "\n",
    "print(weather_data.head())"
   ],
   "id": "29ed50f9c7a20a4f",
   "outputs": [
    {
     "name": "stdout",
     "output_type": "stream",
     "text": [
      "['Date', 'Location', 'MinTemp', 'MaxTemp', 'Rainfall', 'Evaporation', 'Sunshine', 'WindGustDir', 'WindGustSpeed', 'WindDir9am', 'WindDir3pm', 'WindSpeed9am', 'WindSpeed3pm', 'Humidity9am', 'Humidity3pm', 'Pressure9am', 'Pressure3pm', 'Cloud9am', 'Cloud3pm', 'Temp9am', 'Temp3pm', 'RainToday', 'RainTomorrow']\n",
      "         Date Location  MinTemp  MaxTemp  Rainfall  Sunshine\n",
      "0  2008-12-01   Albury     13.4     22.9       0.6       NaN\n",
      "1  2008-12-02   Albury      7.4     25.1       0.0       NaN\n",
      "2  2008-12-03   Albury     12.9     25.7       0.0       NaN\n",
      "3  2008-12-04   Albury      9.2     28.0       0.0       NaN\n",
      "4  2008-12-05   Albury     17.5     32.3       1.0       NaN\n"
     ]
    }
   ],
   "execution_count": 3
  },
  {
   "metadata": {
    "ExecuteTime": {
     "end_time": "2024-09-21T13:31:56.575160Z",
     "start_time": "2024-09-21T13:31:56.562393Z"
    }
   },
   "cell_type": "code",
   "source": "weather_data",
   "id": "b782e58dc6172e7e",
   "outputs": [
    {
     "data": {
      "text/plain": [
       "              Date Location  MinTemp  MaxTemp  Rainfall  Sunshine\n",
       "0       2008-12-01   Albury     13.4     22.9       0.6       NaN\n",
       "1       2008-12-02   Albury      7.4     25.1       0.0       NaN\n",
       "2       2008-12-03   Albury     12.9     25.7       0.0       NaN\n",
       "3       2008-12-04   Albury      9.2     28.0       0.0       NaN\n",
       "4       2008-12-05   Albury     17.5     32.3       1.0       NaN\n",
       "...            ...      ...      ...      ...       ...       ...\n",
       "145455  2017-06-21    Uluru      2.8     23.4       0.0       NaN\n",
       "145456  2017-06-22    Uluru      3.6     25.3       0.0       NaN\n",
       "145457  2017-06-23    Uluru      5.4     26.9       0.0       NaN\n",
       "145458  2017-06-24    Uluru      7.8     27.0       0.0       NaN\n",
       "145459  2017-06-25    Uluru     14.9      NaN       0.0       NaN\n",
       "\n",
       "[145460 rows x 6 columns]"
      ],
      "text/html": [
       "<div>\n",
       "<style scoped>\n",
       "    .dataframe tbody tr th:only-of-type {\n",
       "        vertical-align: middle;\n",
       "    }\n",
       "\n",
       "    .dataframe tbody tr th {\n",
       "        vertical-align: top;\n",
       "    }\n",
       "\n",
       "    .dataframe thead th {\n",
       "        text-align: right;\n",
       "    }\n",
       "</style>\n",
       "<table border=\"1\" class=\"dataframe\">\n",
       "  <thead>\n",
       "    <tr style=\"text-align: right;\">\n",
       "      <th></th>\n",
       "      <th>Date</th>\n",
       "      <th>Location</th>\n",
       "      <th>MinTemp</th>\n",
       "      <th>MaxTemp</th>\n",
       "      <th>Rainfall</th>\n",
       "      <th>Sunshine</th>\n",
       "    </tr>\n",
       "  </thead>\n",
       "  <tbody>\n",
       "    <tr>\n",
       "      <th>0</th>\n",
       "      <td>2008-12-01</td>\n",
       "      <td>Albury</td>\n",
       "      <td>13.4</td>\n",
       "      <td>22.9</td>\n",
       "      <td>0.6</td>\n",
       "      <td>NaN</td>\n",
       "    </tr>\n",
       "    <tr>\n",
       "      <th>1</th>\n",
       "      <td>2008-12-02</td>\n",
       "      <td>Albury</td>\n",
       "      <td>7.4</td>\n",
       "      <td>25.1</td>\n",
       "      <td>0.0</td>\n",
       "      <td>NaN</td>\n",
       "    </tr>\n",
       "    <tr>\n",
       "      <th>2</th>\n",
       "      <td>2008-12-03</td>\n",
       "      <td>Albury</td>\n",
       "      <td>12.9</td>\n",
       "      <td>25.7</td>\n",
       "      <td>0.0</td>\n",
       "      <td>NaN</td>\n",
       "    </tr>\n",
       "    <tr>\n",
       "      <th>3</th>\n",
       "      <td>2008-12-04</td>\n",
       "      <td>Albury</td>\n",
       "      <td>9.2</td>\n",
       "      <td>28.0</td>\n",
       "      <td>0.0</td>\n",
       "      <td>NaN</td>\n",
       "    </tr>\n",
       "    <tr>\n",
       "      <th>4</th>\n",
       "      <td>2008-12-05</td>\n",
       "      <td>Albury</td>\n",
       "      <td>17.5</td>\n",
       "      <td>32.3</td>\n",
       "      <td>1.0</td>\n",
       "      <td>NaN</td>\n",
       "    </tr>\n",
       "    <tr>\n",
       "      <th>...</th>\n",
       "      <td>...</td>\n",
       "      <td>...</td>\n",
       "      <td>...</td>\n",
       "      <td>...</td>\n",
       "      <td>...</td>\n",
       "      <td>...</td>\n",
       "    </tr>\n",
       "    <tr>\n",
       "      <th>145455</th>\n",
       "      <td>2017-06-21</td>\n",
       "      <td>Uluru</td>\n",
       "      <td>2.8</td>\n",
       "      <td>23.4</td>\n",
       "      <td>0.0</td>\n",
       "      <td>NaN</td>\n",
       "    </tr>\n",
       "    <tr>\n",
       "      <th>145456</th>\n",
       "      <td>2017-06-22</td>\n",
       "      <td>Uluru</td>\n",
       "      <td>3.6</td>\n",
       "      <td>25.3</td>\n",
       "      <td>0.0</td>\n",
       "      <td>NaN</td>\n",
       "    </tr>\n",
       "    <tr>\n",
       "      <th>145457</th>\n",
       "      <td>2017-06-23</td>\n",
       "      <td>Uluru</td>\n",
       "      <td>5.4</td>\n",
       "      <td>26.9</td>\n",
       "      <td>0.0</td>\n",
       "      <td>NaN</td>\n",
       "    </tr>\n",
       "    <tr>\n",
       "      <th>145458</th>\n",
       "      <td>2017-06-24</td>\n",
       "      <td>Uluru</td>\n",
       "      <td>7.8</td>\n",
       "      <td>27.0</td>\n",
       "      <td>0.0</td>\n",
       "      <td>NaN</td>\n",
       "    </tr>\n",
       "    <tr>\n",
       "      <th>145459</th>\n",
       "      <td>2017-06-25</td>\n",
       "      <td>Uluru</td>\n",
       "      <td>14.9</td>\n",
       "      <td>NaN</td>\n",
       "      <td>0.0</td>\n",
       "      <td>NaN</td>\n",
       "    </tr>\n",
       "  </tbody>\n",
       "</table>\n",
       "<p>145460 rows × 6 columns</p>\n",
       "</div>"
      ]
     },
     "execution_count": 4,
     "metadata": {},
     "output_type": "execute_result"
    }
   ],
   "execution_count": 4
  },
  {
   "metadata": {},
   "cell_type": "markdown",
   "source": "### **Reading the flu file**",
   "id": "593ca44b0ae8180f"
  },
  {
   "metadata": {
    "ExecuteTime": {
     "end_time": "2024-09-23T12:12:58.707256Z",
     "start_time": "2024-09-23T12:12:58.612958Z"
    }
   },
   "cell_type": "code",
   "source": "import pandas as pd",
   "id": "ee715b567a68ec84",
   "outputs": [],
   "execution_count": 4
  },
  {
   "metadata": {
    "ExecuteTime": {
     "end_time": "2024-09-23T12:17:53.199756Z",
     "start_time": "2024-09-23T12:17:36.630386Z"
    }
   },
   "cell_type": "code",
   "source": [
    "file_path = 'datasets/national_notifiable_diseases_surveillance_system_nndss_public_dataset.xlsx'\n",
    "\n",
    "excel_file = pd.ExcelFile(file_path)\n",
    "sheets_name = excel_file.sheet_names\n",
    "\n",
    "print(sheets_name)\n",
    "\n",
    "df_flu = pd.read_excel(file_path, sheet_name='2008-2015')\n",
    "\n",
    "df_flu.head()"
   ],
   "id": "bb64fb23a8ec5e21",
   "outputs": [
    {
     "name": "stdout",
     "output_type": "stream",
     "text": [
      "['2008-2015', '2016-2018', '2019-2022']\n"
     ]
    },
    {
     "data": {
      "text/plain": [
       "  Influenza (laboratory confirmed) NNDSS notifications in Australia \\n2008-2015\\n *NNDSS data current as at 29/06/2023  \\\n",
       "0                               Week Ending (Friday)                                                                     \n",
       "1                                2016-01-01 00:00:00                                                                     \n",
       "2                                2016-01-01 00:00:00                                                                     \n",
       "3                                2016-01-01 00:00:00                                                                     \n",
       "4                                2016-01-01 00:00:00                                                                     \n",
       "\n",
       "  Unnamed: 1  Unnamed: 2 Unnamed: 3         Unnamed: 4     Unnamed: 5  \n",
       "0      State  Age  group        Sex  Indigenous status   Type/Subtype  \n",
       "1        NSW       00-04     Female      Not available   A(H1N1)pdm09  \n",
       "2        NSW       00-04     Female      Not available   A(H1N1)pdm09  \n",
       "3        NSW       00-04     Female      Not available   A(H1N1)pdm09  \n",
       "4        NSW       00-04     Female      Not available  A(unsubtyped)  "
      ],
      "text/html": [
       "<div>\n",
       "<style scoped>\n",
       "    .dataframe tbody tr th:only-of-type {\n",
       "        vertical-align: middle;\n",
       "    }\n",
       "\n",
       "    .dataframe tbody tr th {\n",
       "        vertical-align: top;\n",
       "    }\n",
       "\n",
       "    .dataframe thead th {\n",
       "        text-align: right;\n",
       "    }\n",
       "</style>\n",
       "<table border=\"1\" class=\"dataframe\">\n",
       "  <thead>\n",
       "    <tr style=\"text-align: right;\">\n",
       "      <th></th>\n",
       "      <th>Influenza (laboratory confirmed) NNDSS notifications in Australia \\n2008-2015\\n *NNDSS data current as at 29/06/2023</th>\n",
       "      <th>Unnamed: 1</th>\n",
       "      <th>Unnamed: 2</th>\n",
       "      <th>Unnamed: 3</th>\n",
       "      <th>Unnamed: 4</th>\n",
       "      <th>Unnamed: 5</th>\n",
       "    </tr>\n",
       "  </thead>\n",
       "  <tbody>\n",
       "    <tr>\n",
       "      <th>0</th>\n",
       "      <td>Week Ending (Friday)</td>\n",
       "      <td>State</td>\n",
       "      <td>Age  group</td>\n",
       "      <td>Sex</td>\n",
       "      <td>Indigenous status</td>\n",
       "      <td>Type/Subtype</td>\n",
       "    </tr>\n",
       "    <tr>\n",
       "      <th>1</th>\n",
       "      <td>2016-01-01 00:00:00</td>\n",
       "      <td>NSW</td>\n",
       "      <td>00-04</td>\n",
       "      <td>Female</td>\n",
       "      <td>Not available</td>\n",
       "      <td>A(H1N1)pdm09</td>\n",
       "    </tr>\n",
       "    <tr>\n",
       "      <th>2</th>\n",
       "      <td>2016-01-01 00:00:00</td>\n",
       "      <td>NSW</td>\n",
       "      <td>00-04</td>\n",
       "      <td>Female</td>\n",
       "      <td>Not available</td>\n",
       "      <td>A(H1N1)pdm09</td>\n",
       "    </tr>\n",
       "    <tr>\n",
       "      <th>3</th>\n",
       "      <td>2016-01-01 00:00:00</td>\n",
       "      <td>NSW</td>\n",
       "      <td>00-04</td>\n",
       "      <td>Female</td>\n",
       "      <td>Not available</td>\n",
       "      <td>A(H1N1)pdm09</td>\n",
       "    </tr>\n",
       "    <tr>\n",
       "      <th>4</th>\n",
       "      <td>2016-01-01 00:00:00</td>\n",
       "      <td>NSW</td>\n",
       "      <td>00-04</td>\n",
       "      <td>Female</td>\n",
       "      <td>Not available</td>\n",
       "      <td>A(unsubtyped)</td>\n",
       "    </tr>\n",
       "  </tbody>\n",
       "</table>\n",
       "</div>"
      ]
     },
     "execution_count": 8,
     "metadata": {},
     "output_type": "execute_result"
    }
   ],
   "execution_count": 8
  },
  {
   "metadata": {
    "ExecuteTime": {
     "end_time": "2024-09-23T12:17:19.466048Z",
     "start_time": "2024-09-23T12:17:19.463717Z"
    }
   },
   "cell_type": "code",
   "source": [
    "import pandas as pd\n",
    "\n",
    "# Step 1: Convert weather data 'Date' to datetime format\n",
    "weather_data['Date'] = pd.to_datetime(weather_data['Date'])\n",
    "\n",
    "# Step 2: Create 'Year_Week' column for both daily weather and weekly flu data\n",
    "weather_data['Year_Week'] = weather_data['Date'].dt.strftime('%Y-%U')\n",
    "flu_data['Week_Ending'] = pd.to_datetime(flu_data['Week_Ending'])\n",
    "flu_data['Year_Week'] = flu_data['Week_Ending'].dt.strftime('%Y-%U')\n",
    "\n",
    "# Step 3: Merge the flu data onto the daily weather data (assigning the weekly flu cases to each day of the week)\n",
    "merged_data = pd.merge(weather_data, flu_data[['Year_Week', 'Flu_Cases']], on='Year_Week', how='left')\n",
    "\n",
    "# Display the merged dataset to the user\n",
    "import ace_tools as tools; tools.display_dataframe_to_user(name=\"Merged Daily Weather with Weekly Flu Data\", dataframe=merged_data)\n",
    "\n",
    "# Now 'merged_data' contains daily weather with weekly flu cases assigned to each day."
   ],
   "id": "d9d9f61e74086d23",
   "outputs": [],
   "execution_count": null
  }
 ],
 "metadata": {
  "kernelspec": {
   "display_name": "Python 3",
   "language": "python",
   "name": "python3"
  },
  "language_info": {
   "codemirror_mode": {
    "name": "ipython",
    "version": 2
   },
   "file_extension": ".py",
   "mimetype": "text/x-python",
   "name": "python",
   "nbconvert_exporter": "python",
   "pygments_lexer": "ipython2",
   "version": "2.7.6"
  }
 },
 "nbformat": 4,
 "nbformat_minor": 5
}
